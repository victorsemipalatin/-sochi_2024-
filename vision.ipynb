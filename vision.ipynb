{
 "cells": [
  {
   "cell_type": "code",
   "execution_count": 1,
   "id": "752ab58b",
   "metadata": {},
   "outputs": [],
   "source": [
    "from transformers import AutoModel, AutoTokenizer\n",
    "import cv2\n",
    "\n",
    "tokenizer = AutoTokenizer.from_pretrained('ucaslcl/GOT-OCR2_0', trust_remote_code=True)\n",
    "model = AutoModel.from_pretrained('ucaslcl/GOT-OCR2_0', trust_remote_code=True, low_cpu_mem_usage=True, device_map='cuda', use_safetensors=True, pad_token_id=tokenizer.eos_token_id)\n",
    "model = model.eval().cuda()"
   ]
  },
  {
   "cell_type": "code",
   "execution_count": 2,
   "id": "6def349d",
   "metadata": {},
   "outputs": [],
   "source": [
    "def slice_image(img):\n",
    "    img = cv2.imread(img)\n",
    "    dimensions = img.shape\n",
    "\n",
    "\n",
    "    height_cutoff = dimensions[0] // 2\n",
    "    s1 = img[:height_cutoff,:]\n",
    "    s2 = img[height_cutoff:, :]\n",
    "\n",
    "    # здесь сохранение надо сделать так, чтобы не пропал номер страницы\n",
    "    cv2.imwrite(\"p1.png\", s1)\n",
    "    cv2.imwrite(\"p2.png\", s2)"
   ]
  },
  {
   "cell_type": "code",
   "execution_count": 7,
   "id": "29a02635",
   "metadata": {},
   "outputs": [],
   "source": [
    "image = \"C:/Users/shari/PycharmProjects/sochi_hack/sochi/iC9cIK8ule4.jpg\"\n",
    "slice_image(image)\n",
    "crop_img_1 = \"p1.png\"\n",
    "crop_img_2 = \"p2.png\""
   ]
  },
  {
   "cell_type": "code",
   "execution_count": null,
   "id": "f40d9ff9",
   "metadata": {},
   "outputs": [
    {
     "name": "stderr",
     "output_type": "stream",
     "text": [
      "The attention mask and the pad token id were not set. As a consequence, you may observe unexpected behavior. Please pass your input's `attention_mask` to obtain reliable results.\n",
      "Setting `pad_token_id` to `eos_token_id`:151643 for open-end generation.\n",
      "The attention mask and the pad token id were not set. As a consequence, you may observe unexpected behavior. Please pass your input's `attention_mask` to obtain reliable results.\n",
      "Setting `pad_token_id` to `eos_token_id`:151643 for open-end generation.\n"
     ]
    },
    {
     "name": "stdout",
     "output_type": "stream",
     "text": [
      "4. Краткая характеристика деятельности Банка\n",
      "4.1. Характер операций и основных направлений деятельности Банка\n",
      "\\(\\mathrm{AO}\\) «АЛЬФА-БАНК» (далее - Банк) основан в 1990 году. Головной офис Банка располагается в Москве.\n",
      "Банк является крупнейшим универсальным частным банком в России. На протяжении 30 лет занимает ведущие позиции во всех сегментах банковского бизнеса. Клиентская база составляет около 850 тысяч корпоративных клиентов и 18.7 миллионов физических лиц.\n",
      "16 декабря 2004 года Банк стал участником государственной программы страхования вкладов.\n",
      "Банк входит в перечень системно значимых банков, утверждаемый Банком России.\n",
      "По состоянию на 1 января 2021 года на территории Российской Федерации у Банка имеется 7 филиалов:\n",
      "«Екатеринбургский», «Нижегородский», «Новосибирский», «Ростовский», «Санкт-Петербургский», «Ставропольский» и «Хабаровский». Изменений в филиальной сети в 2020 году не происходило.\n",
      "Банк развивается по модели «phygital», сочетая цифровые инновации с эффективной сетью физического присутствия, которая насчитывает 486 офисов в Москве и регионах России, 900 городов с курьерской доставкой и 27900 своих и партнерских банкоматов.\n",
      "Основные ценности Банка это - лучший клиентский опыт, технологическое лидерство и первоклассные сотрудники.\n",
      "4.2. Информация о присвоенных рейтингах\n",
      "Рейтинг, присвоенные Банку, являются навысшими среди российских частных банков.\n"
     ]
    }
   ],
   "source": [
    "res = model.chat(tokenizer, crop_img_1, ocr_type='format')\n",
    "print(res)\n",
    "res = model.chat(tokenizer, crop_img_2, ocr_type='format')\n",
    "print(res)"
   ]
  },
  {
   "cell_type": "code",
   "execution_count": null,
   "id": "be006195",
   "metadata": {},
   "outputs": [],
   "source": []
  }
 ],
 "metadata": {
  "kernelspec": {
   "display_name": "Python 3 (ipykernel)",
   "language": "python",
   "name": "python3"
  },
  "language_info": {
   "codemirror_mode": {
    "name": "ipython",
    "version": 3
   },
   "file_extension": ".py",
   "mimetype": "text/x-python",
   "name": "python",
   "nbconvert_exporter": "python",
   "pygments_lexer": "ipython3",
   "version": "3.9.18"
  }
 },
 "nbformat": 4,
 "nbformat_minor": 5
}
